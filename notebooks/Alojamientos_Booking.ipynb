{
 "cells": [
  {
   "cell_type": "markdown",
   "metadata": {},
   "source": [
    "Imports de codigo"
   ]
  },
  {
   "cell_type": "code",
   "execution_count": 2,
   "metadata": {},
   "outputs": [],
   "source": [
    "import requests\n",
    "import pandas as pd\n",
    "from datetime import datetime, timedelta\n",
    "import sys\n",
    "import os\n",
    "from tqdm import tqdm\n",
    "import time\n",
    "import http.client\n",
    "import json\n",
    "import pandas as pd\n",
    "src_path = os.path.abspath(os.path.join(os.pardir, 'src'))\n",
    "sys.path.append(src_path)\n",
    "import os\n",
    "import dotenv as dotenv"
   ]
  },
  {
   "cell_type": "markdown",
   "metadata": {},
   "source": [
    "Datos a introducir"
   ]
  },
  {
   "cell_type": "code",
   "execution_count": 20,
   "metadata": {},
   "outputs": [],
   "source": [
    "dotenv.load_dotenv()\n",
    "api_key=os.getenv(\"apikey_booking\")\n",
    "key = \"d66a7bdef8mshdb55378189405fbp10a9ffjsnd9d65bafe8b6\"\n",
    "# Fecha de búsqueda\n",
    "Ciudad=\"Roma\"\n"
   ]
  },
  {
   "cell_type": "markdown",
   "metadata": {},
   "source": [
    "Codigo de extraccion de API Booking"
   ]
  },
  {
   "cell_type": "markdown",
   "metadata": {},
   "source": [
    "[Documentación API Booking](https://developers.booking.com/)"
   ]
  },
  {
   "cell_type": "code",
   "execution_count": 21,
   "metadata": {},
   "outputs": [
    {
     "name": "stdout",
     "output_type": "stream",
     "text": [
      "[{'nr_hotels': 26013, 'city_ufi': None, 'dest_type': 'country', 'city_name': '', 'lc': 'en', 'name': 'Romania', 'cc1': 'ro', 'country': 'Romania', 'label': 'Romania', 'longitude': 24.985567, 'image_url': 'https://cf.bstatic.com/xdata/images/country/150x150/1196.jpg?k=07d66f78280bfe5c92d14dc52c570c057afe14a196b5902cac363f0239b71a3e&o=', 'b_max_los_data': {'is_fullon': 0, 'default_los': 45, 'max_allowed_los': 90, 'extended_los': 90, 'has_extended_los': 1, 'experiment': 'long_stays_android_extend_los_2'}, 'roundtrip': 'GgEwIAAoATICZW46BFJvbWFAAEoAUAA=', 'hotels': 26013, 'latitude': 45.839714, 'rtl': 0, 'type': 'co', 'dest_id': '175', 'region': ''}, {'dest_id': '1089', 'type': 'la', 'rtl': 0, 'region': 'Lazio', 'hotels': 733, 'latitude': 41.901005, 'cc1': 'it', 'label': 'Roma Termini, Rome, Lazio, Italy', 'country': 'Italy', 'longitude': 12.501904, 'image_url': 'https://cf.bstatic.com/xdata/images/landmark/150x150/173174.jpg?k=3468b8d784c996306802c3889b115b83438b955ffdf982dbc8030ec116a7995d&o=', 'b_max_los_data': {'experiment': 'long_stays_android_extend_los_3', 'has_extended_los': 1, 'extended_los': 90, 'max_allowed_los': 90, 'default_los': 30, 'is_fullon': 0}, 'roundtrip': 'GgEwIAEoATICeHU6BFJvbWFAAEoAUAA=', 'nr_hotels': 733, 'city_ufi': -126693, 'dest_type': 'landmark', 'landmark_type': 2, 'lc': 'xu', 'city_name': 'Rome', 'name': 'Roma Termini', 'timezone': 'Europe/Rome'}, {'country': 'Italia', 'label': 'Roma, Lazio, Italia', 'longitude': 12.482617, 'cc1': 'it', 'b_max_los_data': {'extended_los': 90, 'experiment': 'long_stays_android_extend_los_3', 'has_extended_los': 1, 'default_los': 30, 'max_allowed_los': 90, 'is_fullon': 0}, 'image_url': 'https://cf.bstatic.com/xdata/images/city/150x150/977191.jpg?k=933d1bdd7c0fa5bc9d7cb34a5588d25a48fe0031bb9f41c9110fcd2f5732de7d&o=', 'roundtrip': 'GgEwIAIoATICaXQ6BFJvbWFAAEoAUAA=', 'nr_hotels': 14115, 'dest_type': 'city', 'city_ufi': None, 'name': 'Roma', 'timezone': 'Europe/Rome', 'lc': 'it', 'city_name': 'Roma', 'type': 'ci', 'dest_id': '-126693', 'rtl': 0, 'region': 'Lazio', 'hotels': 14115, 'latitude': 41.89587}, {'region': 'Lazio', 'type': 'di', 'dest_id': '2282', 'rtl': 0, 'latitude': 41.898148, 'hotels': 8169, 'roundtrip': 'GgEwIAMoATICaXQ6BFJvbWFAAEoAUAA=', 'image_url': 'https://cf.bstatic.com/xdata/images/district/150x150/38000.jpg?k=809c6ce98ce99576b240c51a8c7d9c96f248ef8dba53a48b0a25992ef2631736&o=', 'b_max_los_data': {'has_extended_los': 1, 'experiment': 'long_stays_android_extend_los_3', 'extended_los': 90, 'is_fullon': 0, 'max_allowed_los': 90, 'default_los': 30}, 'cc1': 'it', 'label': 'Centro di Roma, Roma, Lazio, Italia', 'longitude': 12.481033, 'country': 'Italia', 'city_name': 'Roma', 'lc': 'it', 'name': 'Centro di Roma', 'timezone': 'Europe/Rome', 'city_ufi': -126693, 'dest_type': 'district', 'nr_hotels': 8169}, {'name': 'Emilia-Romagna', 'city_name': '', 'lc': 'en', 'dest_type': 'region', 'city_ufi': None, 'nr_hotels': 10204, 'roundtrip': 'GgEwIAQoATICZW46BFJvbWFAAEoAUAA=', 'b_max_los_data': {'extended_los': 90, 'experiment': 'long_stays_android_extend_los_3', 'has_extended_los': 1, 'max_allowed_los': 90, 'default_los': 30, 'is_fullon': 0}, 'image_url': 'https://cf.bstatic.com/xdata/images/region/150x150/74379.jpg?k=6c29dfd61a5848ed520044ff8becc1a27b47427e571a99430eb69de0ed8d97d5&o=', 'longitude': 11.074778, 'country': 'Italy', 'label': 'Emilia-Romagna, Italy', 'cc1': 'it', 'latitude': 44.524967, 'hotels': 10204, 'region': 'Emilia-Romagna', 'dest_id': '899', 'type': 're', 'rtl': 0}]\n"
     ]
    }
   ],
   "source": [
    "import requests\n",
    "\n",
    "url = \"https://booking-com.p.rapidapi.com/v1/hotels/locations\"\n",
    "\n",
    "querystring = {\"locale\":\"en-gb\",\"name\":Ciudad}\n",
    "\n",
    "headers = {\n",
    "\t\"x-rapidapi-key\": key,\n",
    "\t\"x-rapidapi-host\": \"booking-com.p.rapidapi.com\"\n",
    "}\n",
    "\n",
    "response_Id= requests.get(url, headers=headers, params=querystring)\n",
    "\n",
    "print(response_Id.json())"
   ]
  },
  {
   "cell_type": "code",
   "execution_count": 18,
   "metadata": {},
   "outputs": [
    {
     "name": "stdout",
     "output_type": "stream",
     "text": [
      "   destination  city checkin_date checkout_date  \\\n",
      "0         Roma  Roma    2025-2-13     2025-2-16   \n",
      "1         Roma  Roma    2025-2-13     2025-2-16   \n",
      "2         Roma  Roma    2025-2-13     2025-2-16   \n",
      "3         Roma  Roma    2025-2-13     2025-2-16   \n",
      "4         Roma  Roma    2025-2-13     2025-2-16   \n",
      "5         Roma  Rome    2025-2-13     2025-2-16   \n",
      "6         Roma  Roma    2025-2-13     2025-2-16   \n",
      "7         Roma  Roma    2025-2-13     2025-2-16   \n",
      "8         Roma  Roma    2025-2-13     2025-2-16   \n",
      "9         Roma  Roma    2025-2-13     2025-2-16   \n",
      "10        Roma  Roma    2025-2-13     2025-2-16   \n",
      "11        Roma  Rome    2025-2-13     2025-2-16   \n",
      "12        Roma  Roma    2025-2-13     2025-2-16   \n",
      "13        Roma  Roma    2025-2-13     2025-2-16   \n",
      "14        Roma  Roma    2025-2-13     2025-2-16   \n",
      "15        Roma  Roma    2025-2-13     2025-2-16   \n",
      "16        Roma  Roma    2025-2-13     2025-2-16   \n",
      "17        Roma  Roma    2025-2-13     2025-2-16   \n",
      "18        Roma  Roma    2025-2-13     2025-2-16   \n",
      "19        Roma  Roma    2025-2-13     2025-2-16   \n",
      "\n",
      "                                       address accommodation_type_name  \\\n",
      "0   95 Via di Porta Maggiore - Via G. Giolitti             Apartahotel   \n",
      "1                            Via Montebello 45                   Hotel   \n",
      "2                              Via Volturno 22                   Hotel   \n",
      "3                           Via della Scala 17             Apartamento   \n",
      "4                          28 Vicolo del Cedro             Apartamento   \n",
      "5        Via Dei Mille 41, Building A, Flat 18        Hostal o pensión   \n",
      "6                               Via Magenta 34                   Hotel   \n",
      "7                           Vicolo Paganica 30             Apartamento   \n",
      "8                               Via Vercelli 5             Apartamento   \n",
      "9                              Via Dei Mille 6        Hostal o pensión   \n",
      "10                    Viale di Trastevere, 269         Bed & breakfast   \n",
      "11                                Via Napoli 3                   Hotel   \n",
      "12                         Via Calatafimi 10/b                   Hotel   \n",
      "13                        30 Via Napoleone III        Hostal o pensión   \n",
      "14                       16 Piazza Conca d'Oro             Apartamento   \n",
      "15                           Via Domenichino 7                   Hotel   \n",
      "16                    Via Quattro Novembre 154                   Hotel   \n",
      "17                   Via Dei Quattro Cantoni 6             Apartamento   \n",
      "18                           Via Ottaviano 105        Hostal o pensión   \n",
      "19               113 Via delle Quattro Fontane                  Hostel   \n",
      "\n",
      "   distance checkin checkout  review_score  price_total  price_night  \\\n",
      "0      2.62   15:00    10:00           9.4       683.57   215.856667   \n",
      "1      1.84   14:00    11:00           7.3       250.65    71.550000   \n",
      "2      1.71   14:00    11:00           7.7       243.12    69.040000   \n",
      "3      1.31   15:00    11:00           8.3       330.00    80.000000   \n",
      "4      1.34   15:00    10:00           8.5       353.00    99.000000   \n",
      "5      2.00   13:00    10:30           7.1       234.12    68.040000   \n",
      "6      1.92   14:00    11:00           6.9       244.80    66.600000   \n",
      "7      0.50   14:00    11:00           7.6       330.00    98.000000   \n",
      "8      3.19   15:00    10:30           8.7       268.50    67.500000   \n",
      "9      1.92   14:00    11:00           7.3       220.35    63.450000   \n",
      "10     2.68   14:00    10:00           8.7       216.00    60.000000   \n",
      "11     1.17   13:00    10:00           7.2       312.30    92.100000   \n",
      "12     1.75   14:00    11:00           7.0       230.40    64.800000   \n",
      "13     1.61   14:00    11:00           9.2       375.00   108.000000   \n",
      "14     6.08   15:00    10:00           9.8       203.18    55.726667   \n",
      "15     1.36   11:00    10:00           8.2       351.73   109.243333   \n",
      "16     0.30   15:00    11:00           8.2       448.92   134.640000   \n",
      "17     1.14   12:30    10:00           8.0       256.88    66.960000   \n",
      "18     2.52   14:00    10:00           8.3       352.50    97.500000   \n",
      "19     0.99   15:00    10:00           9.0       331.25   103.416667   \n",
      "\n",
      "                                 hotel_name  class  \n",
      "0   Major House - Luxury Apartments in Rome    0.0  \n",
      "1                      Raeli Hotel Floridia    3.0  \n",
      "2                         Raeli Hotel Regio    3.0  \n",
      "3                            trastevere art    0.0  \n",
      "4                                Cedro Home    0.0  \n",
      "5                          Friendship Place    0.0  \n",
      "6                          Raeli Hotel Luce    4.0  \n",
      "7                     Ancient Roman Mansion    0.0  \n",
      "8    Vercelli Guest House near San Giovanni    0.0  \n",
      "9                                   IL Sole    0.0  \n",
      "10                  Roma Trastevere Holiday    0.0  \n",
      "11                             Hotel Corona    3.0  \n",
      "12                         Raeli Hotel Noto    3.0  \n",
      "13        Domus Maxima - Rome Suite & Rooms    0.0  \n",
      "14                           La CASA di EMY    0.0  \n",
      "15                   Hotel Martino Ai Monti    1.0  \n",
      "16                            Hotel Traiano    4.0  \n",
      "17                               Cavour 1&2    0.0  \n",
      "18                    Ottaviano Smart Rooms    0.0  \n",
      "19                              JO&JOE ROMA    0.0  \n"
     ]
    }
   ],
   "source": [
    "# dest_id': '-1456928' Paris\n",
    "#  dest_id': '-126693' Roma\n",
    "\n",
    "# Inicializar un DataFrame final\n",
    "df_final = pd.DataFrame()\n",
    "\n",
    "# Extraer datos de entrada\n",
    "adults_number = 2\n",
    "checkin_date = '2025-2-13'\n",
    "checkout_date = '2025-2-16'\n",
    "dest_id = '-126693'\n",
    "checkin_date = '2025-2-13'\n",
    "destination = 'Roma'\n",
    "\n",
    "# Realizar la solicitud a la API\n",
    "dicc_datos = dict()\n",
    "try:\n",
    "    conn = http.client.HTTPSConnection(\"booking-com.p.rapidapi.com\")\n",
    "    headers = {\n",
    "        'x-rapidapi-key': key,\n",
    "        'x-rapidapi-host': \"booking-com.p.rapidapi.com\"\n",
    "    }\n",
    "    url = f\"/v1/hotels/search?page_number=0&adults_number={adults_number}&room_number=1&include_adjacency=true&units=metric&checkout_date={checkout_date}&dest_id={dest_id}&filter_by_currency=EUR&dest_type=city&checkin_date={checkin_date}&order_by=popularity&locale=es\"\n",
    "    \n",
    "    conn.request(\"GET\", url, headers=headers)\n",
    "    res = conn.getresponse()\n",
    "    data = res.read()\n",
    "    dicc_datos = json.loads(data.decode(\"utf-8\"))\n",
    "\n",
    "except Exception as e:\n",
    "    print(f\"Error al hacer la petición a la API: {e}\")\n",
    "\n",
    "# Procesar los datos obtenidos\n",
    "rows = []\n",
    "try:\n",
    "    hoteles = dicc_datos.get('result', [])\n",
    "    for h in hoteles:\n",
    "        row = {\n",
    "            'destination': destination,\n",
    "            'city': h.get('city'),\n",
    "            'checkin_date': checkin_date,\n",
    "            'checkout_date': checkout_date,\n",
    "            'address': h.get('address'),\n",
    "            'accommodation_type_name': h.get('accommodation_type_name'),\n",
    "            'distance': h.get('distance'),\n",
    "            'checkin': h.get('checkin', {}).get('from'),\n",
    "            'checkout': h.get('checkout', {}).get('until'),\n",
    "            'review_score': h.get('review_score'),\n",
    "            'price_total': h.get('price_breakdown', {}).get('all_inclusive_price'),\n",
    "            'price_night': h.get('composite_price_breakdown', {}).get('gross_amount_per_night', {}).get('value'),\n",
    "            'hotel_name': h.get('hotel_name'),\n",
    "            'class': h.get('class')\n",
    "        }\n",
    "        rows.append(row)\n",
    "\n",
    "except Exception as e:\n",
    "    print(f\"Error al recorrer datos devueltos: {e}\")\n",
    "\n",
    "# Agregar los resultados a un DataFrame temporal\n",
    "df_temp = pd.DataFrame(rows)\n",
    "df_final = pd.concat([df_final, df_temp], ignore_index=True)\n",
    "\n",
    "# Mostrar el DataFrame final\n",
    "print(df_final)\n"
   ]
  },
  {
   "cell_type": "code",
   "execution_count": 19,
   "metadata": {},
   "outputs": [],
   "source": [
    "# Exportación del DataFrame a un archivo CSV\n",
    "df_final.to_csv(f'../data/alojamientos{Ciudad}.csv', index=False)"
   ]
  }
 ],
 "metadata": {
  "kernelspec": {
   "display_name": "Python 3",
   "language": "python",
   "name": "python3"
  },
  "language_info": {
   "codemirror_mode": {
    "name": "ipython",
    "version": 3
   },
   "file_extension": ".py",
   "mimetype": "text/x-python",
   "name": "python",
   "nbconvert_exporter": "python",
   "pygments_lexer": "ipython3",
   "version": "3.12.7"
  }
 },
 "nbformat": 4,
 "nbformat_minor": 2
}
