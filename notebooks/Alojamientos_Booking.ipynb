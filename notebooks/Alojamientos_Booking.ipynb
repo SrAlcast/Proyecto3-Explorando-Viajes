{
 "cells": [
  {
   "cell_type": "markdown",
   "metadata": {},
   "source": [
    "Imports de codigo"
   ]
  },
  {
   "cell_type": "code",
   "execution_count": 28,
   "metadata": {},
   "outputs": [],
   "source": [
    "import requests\n",
    "import pandas as pd\n",
    "from datetime import datetime, timedelta\n",
    "import sys\n",
    "import os\n",
    "from tqdm import tqdm\n",
    "import time\n",
    "src_path = os.path.abspath(os.path.join(os.pardir, 'src'))\n",
    "sys.path.append(src_path)\n",
    "from Funciones import crear_lista_fechas\n",
    "from Funciones import convertir_duracion_a_minutos\n",
    "from Bibliotecarecursos import ciudades_aeropuertos\n",
    "import os\n",
    "import dotenv as dotenv"
   ]
  },
  {
   "cell_type": "markdown",
   "metadata": {},
   "source": [
    "Datos a introducir"
   ]
  },
  {
   "cell_type": "code",
   "execution_count": 9,
   "metadata": {},
   "outputs": [],
   "source": [
    "dotenv.load_dotenv()\n",
    "api_key=os.getenv(\"apikey_booking\")\n",
    "\n",
    "# Fecha de búsqueda\n",
    "fecha_inicio = \"2025-02-1\"  # Cambia esta fecha por la que necesites en formato YYYY-MM-DD\n",
    "fecha_fin= \"2025-02-28\"\n",
    "listadias=crear_lista_fechas(fecha_inicio,fecha_fin)\n",
    "\n",
    "# Ciudades de estudio\n",
    "Ciudad = \"Roma\"\n"
   ]
  },
  {
   "cell_type": "markdown",
   "metadata": {},
   "source": [
    "Codigo de extraccion de API Booking"
   ]
  },
  {
   "cell_type": "markdown",
   "metadata": {},
   "source": [
    "[Documentación API Booking](https://developers.booking.com/)"
   ]
  },
  {
   "cell_type": "code",
   "execution_count": 34,
   "metadata": {},
   "outputs": [],
   "source": []
  },
  {
   "cell_type": "code",
   "execution_count": 40,
   "metadata": {},
   "outputs": [],
   "source": [
    "# Exportación del DataFrame a un archivo CSV\n",
    "df_alojamientos.to_csv(f'../data/alojamientos{Ciudad}.csv', index=False)\n",
    "\n"
   ]
  }
 ],
 "metadata": {
  "kernelspec": {
   "display_name": "Python 3",
   "language": "python",
   "name": "python3"
  },
  "language_info": {
   "codemirror_mode": {
    "name": "ipython",
    "version": 3
   },
   "file_extension": ".py",
   "mimetype": "text/x-python",
   "name": "python",
   "nbconvert_exporter": "python",
   "pygments_lexer": "ipython3",
   "version": "3.12.7"
  }
 },
 "nbformat": 4,
 "nbformat_minor": 2
}
