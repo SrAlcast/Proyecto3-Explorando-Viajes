{
 "cells": [
  {
   "cell_type": "markdown",
   "metadata": {},
   "source": [
    "Imports de codigo"
   ]
  },
  {
   "cell_type": "code",
   "execution_count": 37,
   "metadata": {},
   "outputs": [],
   "source": [
    "import requests\n",
    "import pandas as pd\n",
    "import re\n",
    "import sys\n",
    "import os\n",
    "from tqdm import tqdm\n",
    "import random\n",
    "import time\n",
    "src_path = os.path.abspath(os.path.join(os.pardir, 'src'))\n",
    "sys.path.append(src_path)\n",
    "from Funciones import crear_lista_fechas\n",
    "from Funciones import convertir_duracion_a_minutos\n",
    "from Bibliotecarecursos import ciudades_aeropuertos\n",
    "import os\n",
    "import dotenv as dotenv"
   ]
  },
  {
   "cell_type": "markdown",
   "metadata": {},
   "source": [
    "Datos a introducir"
   ]
  },
  {
   "cell_type": "code",
   "execution_count": 38,
   "metadata": {},
   "outputs": [],
   "source": [
    "dotenv.load_dotenv()\n",
    "api_key=os.getenv(\"apikey_amadeus\")\n",
    "api_secret=os.getenv(\"apisecret_amadeus\")\n",
    "\n",
    "# Fecha de búsqueda\n",
    "fecha_inicio = \"2025-02-1\"  # Cambia esta fecha por la que necesites en formato YYYY-MM-DD\n",
    "fecha_fin= \"2025-02-28\"\n",
    "listadias=crear_lista_fechas(fecha_inicio,fecha_fin)\n",
    "\n",
    "# Ciudades de salida y destino\n",
    "Ciudad_salida = \"Madrid\"\n",
    "Ciudad_destino = \"Roma\"\n",
    "\n",
    "def obtener_aeropuertos(ciudad):\n",
    "    ciudad_formateada = ciudad.title()  \n",
    "    if ciudad_formateada in ciudades_aeropuertos:\n",
    "        return ciudades_aeropuertos[ciudad_formateada]\n",
    "    else:\n",
    "        return f\"No se encontraron aeropuertos para {ciudad}.\"\n",
    "aeropuertos_salida=obtener_aeropuertos(Ciudad_salida)\n",
    "aeropuertos_destino=obtener_aeropuertos(Ciudad_destino)"
   ]
  },
  {
   "cell_type": "markdown",
   "metadata": {},
   "source": [
    "Codigo de extraccion de API Amadeus for Developers"
   ]
  },
  {
   "cell_type": "markdown",
   "metadata": {},
   "source": [
    "[Documentación API Amadeus](https://developers.amadeus.com/?s_kwcid=AL!10969!3!452455070626!b!!g!!%2Bamadeus%20%2Btravel%20%2Bapis&gad_source=1&gclid=Cj0KCQjwsc24BhDPARIsAFXqAB17PIkmYaVnDyaOL0svq05tBzjJv4IF9_zhkEskFYY89G8GTKm7orsaAsq7EALw_wcB)\n"
   ]
  },
  {
   "cell_type": "code",
   "execution_count": 39,
   "metadata": {},
   "outputs": [
    {
     "name": "stderr",
     "output_type": "stream",
     "text": [
      " 79%|███████▊  | 22/28 [00:58<00:16,  2.81s/it]"
     ]
    },
    {
     "name": "stdout",
     "output_type": "stream",
     "text": [
      "Rate limit excedido, esperando 1.60 segundos antes de reintentar...\n"
     ]
    },
    {
     "name": "stderr",
     "output_type": "stream",
     "text": [
      "100%|██████████| 28/28 [01:16<00:00,  2.74s/it]\n",
      " 50%|█████     | 14/28 [00:38<00:36,  2.62s/it]"
     ]
    },
    {
     "name": "stdout",
     "output_type": "stream",
     "text": [
      "Rate limit excedido, esperando 1.81 segundos antes de reintentar...\n"
     ]
    },
    {
     "name": "stderr",
     "output_type": "stream",
     "text": [
      " 61%|██████    | 17/28 [00:48<00:33,  3.00s/it]"
     ]
    },
    {
     "name": "stdout",
     "output_type": "stream",
     "text": [
      "Rate limit excedido, esperando 1.47 segundos antes de reintentar...\n"
     ]
    },
    {
     "name": "stderr",
     "output_type": "stream",
     "text": [
      "100%|██████████| 28/28 [01:21<00:00,  2.91s/it]\n"
     ]
    }
   ],
   "source": [
    "# Función para obtener el token de acceso\n",
    "def obtener_token_acceso(api_key, api_secret):\n",
    "    urltoken = \"https://test.api.amadeus.com/v1/security/oauth2/token\"\n",
    "    encabezados = {\"Content-Type\": \"application/x-www-form-urlencoded\"}\n",
    "    datos = {\n",
    "        \"grant_type\": \"client_credentials\",\n",
    "        \"client_id\": api_key,\n",
    "        \"client_secret\": api_secret\n",
    "    }\n",
    "    \n",
    "    respuesta = requests.post(urltoken, headers=encabezados, data=datos)\n",
    "    \n",
    "    if respuesta.status_code == 200:\n",
    "        return respuesta.json().get('access_token')\n",
    "    else:\n",
    "        raise Exception(f\"Error en la autenticación: {respuesta.status_code} - {respuesta.text}\")\n",
    "\n",
    "# Función para buscar vuelos con precios, solo vuelos directos\n",
    "def obtener_datos(token_acceso, origen, destino, fecha_salida, intentos=0):\n",
    "    url = f\"https://test.api.amadeus.com/v2/shopping/flight-offers\"\n",
    "    encabezados = {\n",
    "        \"Authorization\": f\"Bearer {token_acceso}\"\n",
    "    }\n",
    "    \n",
    "    parametros = {\n",
    "        \"originLocationCode\": origen,              # Código IATA del origen \n",
    "        \"destinationLocationCode\": destino,        # Código IATA del destino (solo un destino a la vez)\n",
    "        \"departureDate\": fecha_salida,             # Fecha de salida en formato YYYY-MM-DD\n",
    "        \"adults\": 1,                               # Número de adultos\n",
    "        \"travelClass\": \"ECONOMY\",                  # Clase de viaje\n",
    "        \"currencyCode\": \"EUR\"                     # Moneda en euros\n",
    "    }\n",
    "    \n",
    "    respuesta = requests.get(url, headers=encabezados, params=parametros)\n",
    "    \n",
    "    if respuesta.status_code == 200:\n",
    "        return respuesta.json().get('data', [])\n",
    "    \n",
    "    elif respuesta.status_code == 429:\n",
    "        # Exponential backoff: espera cada vez más tiempo\n",
    "        wait_time = 2 ** intentos + random.uniform(0, 1)  # Espera exponencial con aleatoriedad\n",
    "        print(f\"Rate limit excedido, esperando {wait_time:.2f} segundos antes de reintentar...\")\n",
    "        time.sleep(wait_time)\n",
    "        return obtener_datos(token_acceso, aeropuerto1, aeropuerto2, dia, intentos + 1)\n",
    "\n",
    "    else:\n",
    "        print(f\"Error al obtener vuelos: {respuesta.status_code} - {respuesta.text}\")\n",
    "        return []\n",
    "\n",
    "# Obtener el token de acceso\n",
    "token_acceso = obtener_token_acceso(api_key, api_secret)\n",
    "\n",
    "# # Lista para almacenar los datos de vuelos de todos los destinos\n",
    "datos_vuelos_ida = []\n",
    "\n",
    "# Buscar dia del mes\n",
    "for dia in tqdm(listadias):\n",
    "# Buscar vuelos para cada aeropuerto de salida\n",
    "    for aeropuerto1 in aeropuertos_salida:\n",
    "    # Buscar vuelos para cada aeropuerto de destino\n",
    "        for aeropuerto2 in aeropuertos_destino:\n",
    "            lista_vuelos = obtener_datos(token_acceso, aeropuerto1, aeropuerto2, dia)\n",
    "            # Recopilar los datos relevantes de cada vuelo, solo si tiene 1 segmento (vuelo directo)\n",
    "            for vuelo in lista_vuelos:\n",
    "                info_precio = vuelo.get('price', {})\n",
    "                precio_total = info_precio.get('total', 'N/A')  # Precio total del vuelo\n",
    "                for itinerario in vuelo.get('itineraries', []):\n",
    "                    # Asegurarse de que el itinerario tiene solo 1 segmento (vuelo directo)\n",
    "                    if len(itinerario.get('segments', [])) == 1:\n",
    "                        for segmento in itinerario.get('segments', []):\n",
    "                            info_vuelo = {\n",
    "                                \"Fecha de Salida Completa\": segmento[\"departure\"][\"at\"],\n",
    "                                \"Aeropuerto de Salida\": segmento[\"departure\"][\"iataCode\"],\n",
    "                                \"Aeropuerto de Llegada\": segmento[\"arrival\"][\"iataCode\"],\n",
    "                                \"Código de la Aerolínea\": segmento[\"carrierCode\"],\n",
    "                                \"Número de Vuelo\": segmento[\"number\"],\n",
    "                                \"Duración (Minutos)\": convertir_duracion_a_minutos(itinerario[\"duration\"]),  # Duración en minutos\n",
    "                                \"Precio (EUR)\": precio_total  # Agregar el precio total del vuelo\n",
    "                            }\n",
    "                            datos_vuelos_ida.append(info_vuelo)\n",
    "\n",
    "# Lista para almacenar los datos de vuelos de todos los destinos\n",
    "datos_vuelos_vuelta = []\n",
    "\n",
    "# Buscar dia del mes\n",
    "for dia in tqdm(listadias):\n",
    "# Buscar vuelos para cada aeropuerto de salida\n",
    "    for aeropuerto1 in aeropuertos_salida:\n",
    "    # Buscar vuelos para cada aeropuerto de destino\n",
    "        for aeropuerto2 in aeropuertos_destino:\n",
    "            lista_vuelos = obtener_datos(token_acceso, aeropuerto2, aeropuerto1, dia)\n",
    "            # Recopilar los datos relevantes de cada vuelo, solo si tiene 1 segmento (vuelo directo)\n",
    "            for vuelo in lista_vuelos:\n",
    "                info_precio = vuelo.get('price', {})\n",
    "                precio_total = info_precio.get('total', 'N/A')  # Precio total del vuelo\n",
    "                for itinerario in vuelo.get('itineraries', []):\n",
    "                    # Asegurarse de que el itinerario tiene solo 1 segmento (vuelo directo)\n",
    "                    if len(itinerario.get('segments', [])) == 1:\n",
    "                        for segmento in itinerario.get('segments', []):\n",
    "                            info_vuelo = {\n",
    "                                \"Fecha de Salida Completa\": segmento[\"departure\"][\"at\"],\n",
    "                                \"Aeropuerto de Salida\": segmento[\"departure\"][\"iataCode\"],\n",
    "                                \"Aeropuerto de Llegada\": segmento[\"arrival\"][\"iataCode\"],\n",
    "                                \"Código de la Aerolínea\": segmento[\"carrierCode\"],\n",
    "                                \"Número de Vuelo\": segmento[\"number\"],\n",
    "                                \"Duración (Minutos)\": convertir_duracion_a_minutos(itinerario[\"duration\"]),  # Duración en minutos\n",
    "                                \"Precio (EUR)\": precio_total  # Agregar el precio total del vuelo\n",
    "                            }\n",
    "                            datos_vuelos_vuelta.append(info_vuelo)\n",
    "\n",
    "# Crear un DataFrame con los datos de los vuelos\n",
    "df_vuelos_ida = pd.DataFrame(datos_vuelos_ida)\n",
    "\n",
    "# Convertir las columnas de fechas y horas a tipo datetime\n",
    "df_vuelos_ida['Fecha de Salida Completa'] = pd.to_datetime(df_vuelos_ida['Fecha de Salida Completa'])\n",
    "\n",
    "# Separar la fecha y la hora en dos columnas diferentes\n",
    "df_vuelos_ida['Fecha de Salida'] = df_vuelos_ida['Fecha de Salida Completa'].dt.date\n",
    "df_vuelos_ida['Hora de Salida'] = df_vuelos_ida['Fecha de Salida Completa'].dt.time\n",
    "\n",
    "# Eliminar las columnas originales si ya no son necesarias\n",
    "df_vuelos_ida.drop(columns=['Fecha de Salida Completa'], inplace=True)\n",
    "\n",
    "# Crear columna de fecha de extracción\n",
    "df_vuelos_ida['Fecha de extracción']= pd.Timestamp.today().date()\n",
    "\n",
    "# Crear un DataFrame con los datos de los vuelos\n",
    "df_vuelos_vuelta = pd.DataFrame(datos_vuelos_vuelta)\n",
    "\n",
    "# Convertir las columnas de fechas y horas a tipo datetime\n",
    "df_vuelos_vuelta['Fecha de Salida Completa'] = pd.to_datetime(df_vuelos_vuelta['Fecha de Salida Completa'])\n",
    "\n",
    "# Separar la fecha y la hora en dos columnas diferentes\n",
    "df_vuelos_vuelta['Fecha de Salida'] = df_vuelos_vuelta['Fecha de Salida Completa'].dt.date\n",
    "df_vuelos_vuelta['Hora de Salida'] = df_vuelos_vuelta['Fecha de Salida Completa'].dt.time\n",
    "\n",
    "# Eliminar las columnas originales si ya no son necesarias\n",
    "df_vuelos_vuelta.drop(columns=['Fecha de Salida Completa'], inplace=True)\n",
    "\n",
    "# Crear columna de fecha de extracción\n",
    "df_vuelos_vuelta['Fecha de extracción']= pd.Timestamp.today().date()\n",
    "\n"
   ]
  },
  {
   "cell_type": "code",
   "execution_count": 40,
   "metadata": {},
   "outputs": [],
   "source": [
    "# Exportación del DataFrame a un archivo CSV\n",
    "df_vuelos_ida.to_csv(f'../data/vuelos_{Ciudad_salida}_{Ciudad_destino}_de_{fecha_inicio}_a_{fecha_fin}_directos.csv', index=False)\n",
    "df_vuelos_vuelta.to_csv(f'../data/vuelos_{Ciudad_destino}_{Ciudad_salida}_de_{fecha_inicio}_a_{fecha_fin}_directos.csv', index=False)\n"
   ]
  }
 ],
 "metadata": {
  "kernelspec": {
   "display_name": "Python 3",
   "language": "python",
   "name": "python3"
  },
  "language_info": {
   "codemirror_mode": {
    "name": "ipython",
    "version": 3
   },
   "file_extension": ".py",
   "mimetype": "text/x-python",
   "name": "python",
   "nbconvert_exporter": "python",
   "pygments_lexer": "ipython3",
   "version": "3.12.7"
  }
 },
 "nbformat": 4,
 "nbformat_minor": 2
}
